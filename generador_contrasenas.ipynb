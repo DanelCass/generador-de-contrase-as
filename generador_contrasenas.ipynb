{
  "nbformat": 4,
  "nbformat_minor": 0,
  "metadata": {
    "colab": {
      "provenance": [],
      "authorship_tag": "ABX9TyMiSg9gWN7k3ZQoUJAtDJxL",
      "include_colab_link": true
    },
    "kernelspec": {
      "name": "python3",
      "display_name": "Python 3"
    },
    "language_info": {
      "name": "python"
    }
  },
  "cells": [
    {
      "cell_type": "markdown",
      "metadata": {
        "id": "view-in-github",
        "colab_type": "text"
      },
      "source": [
        "<a href=\"https://colab.research.google.com/github/DanelCass/generador-de-contrase-as/blob/main/generador_contrasenas.ipynb\" target=\"_parent\"><img src=\"https://colab.research.google.com/assets/colab-badge.svg\" alt=\"Open In Colab\"/></a>"
      ]
    },
    {
      "cell_type": "markdown",
      "source": [
        "# Sección nueva"
      ],
      "metadata": {
        "id": "oH2bqG15eQMD"
      }
    },
    {
      "cell_type": "code",
      "source": [
        "#generador de contrasenas\n",
        "import re\n",
        "import secrets\n",
        "import string\n",
        "\n",
        "\n",
        "\n",
        "def generar_contraseña(longitud, nums, caracteres_especiales, mayusculas, minusculas):\n",
        "    # Define los posibles caracteres para la contraseña\n",
        "    letras = string.ascii_letters\n",
        "    digitos = string.digits\n",
        "    simbolos = string.punctuation\n",
        "\n",
        "    # Combina todos los caracteres\n",
        "    todos_los_caracteres = letras + digitos + simbolos\n",
        "\n",
        "    while True:\n",
        "        contraseña = ''\n",
        "        # Genera la contraseña\n",
        "        for _ in range(longitud):\n",
        "            contraseña += secrets.choice(todos_los_caracteres)\n",
        "\n",
        "        restricciones = [\n",
        "            (nums, r'\\d'),\n",
        "            (minusculas, r'[a-z]'),\n",
        "            (mayusculas, r'[A-Z]'),\n",
        "            (caracteres_especiales, fr'[{simbolos}]')\n",
        "        ]\n",
        "\n",
        "        # Verifica las restricciones\n",
        "        count = 0\n",
        "        for restriccion, patron in restricciones:\n",
        "            if restriccion <= len(re.findall(patron, contraseña)):\n",
        "                count += 1\n",
        "\n",
        "        if count == 4:\n",
        "            break\n",
        "\n",
        "    return contraseña\n",
        "\n",
        "nueva_contraseña = generar_contraseña(8, 2, 2, 2, 2)\n",
        "print(nueva_contraseña)"
      ],
      "metadata": {
        "id": "xXNIckx7lDAM",
        "colab": {
          "base_uri": "https://localhost:8080/"
        },
        "outputId": "b1fe361a-e168-4fe3-a8be-e91daffae8b4"
      },
      "execution_count": 15,
      "outputs": [
        {
          "output_type": "stream",
          "name": "stdout",
          "text": [
            "<Td>To63\n"
          ]
        }
      ]
    },
    {
      "cell_type": "code",
      "source": [
        "def main():\n",
        "  print('Bienvenido al generador automatico de contraseñas en Google Colab y python\\n')\n",
        "  longitud = input('Digite la longitud de su contraseña: ')\n",
        "  numeros = input('Digite la cantidad de numeros que desea en su contraseña: ')\n",
        "  caracteres_especiales = input('Digite la cantidad de caracteres especiales que desea en su contraseña; ')\n",
        "  mayusculas = input('Digite la cantidad de mayusculas que desea en su contraseña: ')\n",
        "  minusculas = input('Digite la cantidad de minusculas que desea en su contraseña: ')\n",
        "\n",
        "  if longitud.isdigit() and numeros.isdigit() and caracteres_especiales.isdigit() and mayusculas.isdigit() and minusculas.isdigit():\n",
        "    long = int(longitud)\n",
        "    nums = int(numeros)\n",
        "    chars = int(caracteres_especiales)\n",
        "    mayus = int(mayusculas)\n",
        "    minus = int(minusculas)\n",
        "    password = generar_contraseña(long, nums, chars, mayus, minus)\n",
        "    print(f'La nueva contraseña generada es: {password}')\n",
        "  else:\n",
        "    print('Favor de escribir numeros enteros.')\n",
        "    main()\n",
        "\n",
        "\n",
        "\n",
        "\n"
      ],
      "metadata": {
        "id": "EnpeCjCFO5tH"
      },
      "execution_count": 16,
      "outputs": []
    },
    {
      "cell_type": "code",
      "source": [
        "main()\n"
      ],
      "metadata": {
        "id": "hivEB1w5Uc0V",
        "outputId": "4fe55d83-a174-4fdf-acfb-c96931ead31d",
        "colab": {
          "base_uri": "https://localhost:8080/"
        }
      },
      "execution_count": 17,
      "outputs": [
        {
          "output_type": "stream",
          "name": "stdout",
          "text": [
            "Bienvenido al generador automatico de contraseñas en Google Colab y python\n",
            "\n",
            "Digite la longitud de su contraseña: 10\n",
            "Digite la cantidad de numeros que desea en su contraseña: 3\n",
            "Digite la cantidad de caracteres especiales que desea en su contraseña; 3\n",
            "Digite la cantidad de mayusculas que desea en su contraseña: 2\n",
            "Digite la cantidad de minusculas que desea en su contraseña: 2\n",
            "La nueva contraseña generada es: 1h~2HlU;$3\n"
          ]
        }
      ]
    }
  ]
}